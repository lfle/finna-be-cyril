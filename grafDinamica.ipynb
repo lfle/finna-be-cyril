{
 "metadata": {
  "name": "grafDinamica"
 },
 "nbformat": 3,
 "nbformat_minor": 0,
 "worksheets": [
  {
   "cells": [
    {
     "cell_type": "heading",
     "level": 1,
     "metadata": {},
     "source": "Taxa de aprova\u00e7\u00e3o em Mec\u00e2nica 2"
    },
    {
     "cell_type": "code",
     "collapsed": false,
     "input": "import matplotlib.pyplot as plt;plt.rcdefaults()\nimport numpy as np",
     "language": "python",
     "metadata": {},
     "outputs": [],
     "prompt_number": 131
    },
    {
     "cell_type": "heading",
     "level": 2,
     "metadata": {},
     "source": "Dados de 2008 a 2013"
    },
    {
     "cell_type": "code",
     "collapsed": false,
     "input": "semester = ('2008-2', '2009-1', '2009-2', '2010-1', '2010-2', '2011-1', '2011-2', '2012-1', '2012-2', '2013-1')\ny_pos = np.arange(len(semester))\nrate = (66, 89, 100, 100, 61, 79, 94, 87, 92, 56)",
     "language": "python",
     "metadata": {},
     "outputs": [],
     "prompt_number": 132
    },
    {
     "cell_type": "code",
     "collapsed": false,
     "input": "plt.barh(y_pos, rate, align='center', alpha=0.4)\nplt.yticks(y_pos, semester)\nplt.xlabel('%')\nplt.title('Dynamics Approval Rate')",
     "language": "python",
     "metadata": {},
     "outputs": [
      {
       "output_type": "pyout",
       "prompt_number": 133,
       "text": "<matplotlib.text.Text at 0xae94b1ac>"
      }
     ],
     "prompt_number": 133
    },
    {
     "cell_type": "code",
     "collapsed": false,
     "input": "plt.annotate('n = 29', xy=(.3, .16),  xycoords='axes fraction',\n                horizontalalignment='center', verticalalignment='center')\nplt.annotate('n = 9', xy=(.29, .25),  xycoords='axes fraction',\n                horizontalalignment='center', verticalalignment='center')\nplt.annotate('n = 34', xy=(.3, .33),  xycoords='axes fraction',\n                horizontalalignment='center', verticalalignment='center')\nplt.annotate('n = 23', xy=(.3, .42),  xycoords='axes fraction',\n                horizontalalignment='center', verticalalignment='center')\nplt.annotate('n = 33', xy=(.3, .5),  xycoords='axes fraction',\n                horizontalalignment='center', verticalalignment='center')\nplt.annotate('n = 52', xy=(.3, .58),  xycoords='axes fraction',\n                horizontalalignment='center', verticalalignment='center')\nplt.annotate('n = 69', xy=(.3, .66),  xycoords='axes fraction',\n                horizontalalignment='center', verticalalignment='center')\nplt.annotate('n = 77', xy=(.3, .75),  xycoords='axes fraction',\n                horizontalalignment='center', verticalalignment='center')\nplt.annotate('n = 83', xy=(.3, .83),  xycoords='axes fraction',\n                horizontalalignment='center', verticalalignment='center')\nplt.annotate('n = 79', xy=(.3, .91),  xycoords='axes fraction',\n                horizontalalignment='center', verticalalignment='center')\nplt.annotate('n is class size', xy=(.5, .07),  xycoords='axes fraction',\n                horizontalalignment='center', verticalalignment='center')",
     "language": "python",
     "metadata": {},
     "outputs": [
      {
       "output_type": "pyout",
       "prompt_number": 134,
       "text": "<matplotlib.text.Annotation at 0xae96d74c>"
      }
     ],
     "prompt_number": 134
    },
    {
     "cell_type": "code",
     "collapsed": false,
     "input": "plt.show()",
     "language": "python",
     "metadata": {},
     "outputs": [],
     "prompt_number": 135
    },
    {
     "cell_type": "code",
     "collapsed": false,
     "input": "",
     "language": "python",
     "metadata": {},
     "outputs": [],
     "prompt_number": 135
    }
   ],
   "metadata": {}
  }
 ]
}
